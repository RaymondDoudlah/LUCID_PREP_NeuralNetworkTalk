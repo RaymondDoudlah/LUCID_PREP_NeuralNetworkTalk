{
  "nbformat": 4,
  "nbformat_minor": 0,
  "metadata": {
    "colab": {
      "name": "LUCID_PREP_NNTalk_2020.ipynb",
      "provenance": [],
      "collapsed_sections": []
    },
    "kernelspec": {
      "name": "python3",
      "display_name": "Python 3"
    },
    "accelerator": "GPU"
  },
  "cells": [
    {
      "cell_type": "markdown",
      "metadata": {
        "id": "fMF57QM2jiYv",
        "colab_type": "text"
      },
      "source": [
        "# Neural Networks #\n",
        "\n",
        "Machine learning and artificial intelligence technology is growing at an impressive rate. From robotics and self-driving cars to augmented reality devices and facial recognition software, models that make predictions from data are all around us. Many of these applications implement neural networks, a computational model inspired by the brain.\n",
        "\n",
        "With recent advancements in computing power and the explosion of big data, we can now implement large models that are capable of learning how to accomplish a task by itself, by only looking at the data you feed it. These deep learning models learn to extract features that the model finds important to help it accomplish the task. \n",
        "\n",
        "In this week's session we will be learning about neural networks, and get to play with a convolutional neural network, a model that is used in machine vision, object recognition, and self-driving cars. The topic of neural networks is very broad, so my goal is to give you a brief overview and provide you with enough resources so that you can learn more about specific models that may be applicable to your scientific work. I also want to give you some hands-on practice with running a pre-built model so you can get an intuition for what these models are doing under the hood. \n",
        "\n",
        "Session outline:\n",
        "* Introduce neural networks and their general architecture\n",
        "* Introduce convolutional neural networks\n",
        "* Implement a convolutional neural network to solve a hand writing recognition task\n",
        "\n",
        "#### Preparation for the workshop: ####\n",
        "\n",
        "1. Watch the following videos:\n",
        "* https://www.youtube.com/watch?v=aircAruvnKk\n",
        "* https://www.youtube.com/watch?v=YRhxdVk_sIs\n",
        "\n",
        "2. Read these articles:\n",
        "* https://www.smartsheet.com/neural-network-applications\n",
        "* https://towardsdatascience.com/a-gentle-introduction-to-neural-networks-series-part-1-2b90b87795b\n",
        "\n",
        "3. Pull code from GitHub\n",
        "* https://github.com/RaymondDoudlah/LUCID_PREP_NeuralNetworkTalk.git\n",
        "* _Note:_ This code is a Google Colab notebook. During the session I will walk you through uploading the code to your Google Drive, opening the code in Google Colab, and running the code.\n"
      ]
    },
    {
      "cell_type": "markdown",
      "metadata": {
        "id": "V-Tf2c2hkKST",
        "colab_type": "text"
      },
      "source": [
        "## Convolutional Neural Networks ##\n",
        "\n",
        "The following code has been modified from:\n",
        "\n",
        "https://pytorch.org/tutorials/beginner/blitz/cifar10_tutorial.html\n",
        "\n",
        "**_If you are interested, feel free visit the website to see the original code and explaination._\n",
        "\n",
        "#### Instructions: ####\n",
        "\n",
        "Read through the explaination for each section of code and then run each block of code in consecutive order. If you have any questions about the code or the underlying theory please feel free to ask (_if you have questions after the session, please send me an email at doudlah@wisc.edu_).\n",
        "\n",
        "\\\n",
        "\n",
        "For this session, we will use **Pytorch**, an open source deep learning library. To learn more, visit the Pytorch website (https://pytorch.org/). There are many great tutorials to check out!"
      ]
    },
    {
      "cell_type": "markdown",
      "metadata": {
        "id": "8JSEr1tcrAs5",
        "colab_type": "text"
      },
      "source": [
        "## Step 1: Preparing the data ##\n",
        "\n",
        "_**Note:** The MNIST dataset is freely available (http://yann.lecun.com/exdb/mnist/). Feel free to visit the website to learn more about the dataset and how it was created._\n",
        "\n",
        "Pytorch has a built-in fuction for downloading the MNIST dataset. The code will load a training dataset and a test dataset. The code will also display example images from the MNIST dataset."
      ]
    },
    {
      "cell_type": "code",
      "metadata": {
        "id": "iVW30ewkQjR4",
        "colab_type": "code",
        "colab": {
          "base_uri": "https://localhost:8080/",
          "height": 485
        },
        "outputId": "3be0e867-61a9-4891-a59d-ec4d10d6f967"
      },
      "source": [
        "# Import required libraries\n",
        "import torch\n",
        "import torchvision\n",
        "import torchvision.transforms as transforms\n",
        "import torch.nn as nn\n",
        "import torch.nn.functional as F\n",
        "import torch.optim as optim\n",
        "import matplotlib.pyplot as plt\n",
        "import numpy as np\n",
        "\n",
        "# Transform torchvision dataset from [0,1] to [-1,1]\n",
        "transform = transforms.Compose(\n",
        "    [transforms.ToTensor(),\n",
        "     transforms.Normalize((0.5,), (0.5,))])\n",
        "\n",
        "# Load training data\n",
        "trainData = torchvision.datasets.MNIST(root='./CNN_Data',train=True,\n",
        "                                      download=True, transform=transform)\n",
        "trainloader = torch.utils.data.DataLoader(trainData, batch_size=10,\n",
        "                                         shuffle=False, num_workers=2)\n",
        "\n",
        "# Load testing data\n",
        "testData = torchvision.datasets.MNIST(root='./CNN_Data',train=False,\n",
        "                                      download=True, transform=transform)\n",
        "testloader = torch.utils.data.DataLoader(testData, batch_size=10,\n",
        "                                         shuffle=False, num_workers=2)\n",
        "\n",
        "classes = ('Digit_0','Digit_1','Digit_2','Digit_3','Digit_4','Digit_5',\n",
        "           'Digit_6','Digit_7','Digit_8','Digit_9')\n",
        "\n",
        "# Display example images\n",
        "dataiter = iter(trainloader)\n",
        "images,labels = dataiter.next()\n",
        "\n",
        "# Display example hand written digits\n",
        "plt.figure(figsize=(8, 8))\n",
        "for i in range(9):\n",
        "  plt.subplot(3, 3, i+1)\n",
        "  plt.xticks([])\n",
        "  plt.yticks([])\n",
        "  plt.grid(False)\n",
        "  plt.imshow(images[i].squeeze(), cmap=plt.cm.binary)\n",
        "  plt.title(classes[labels[i]])"
      ],
      "execution_count": 13,
      "outputs": [
        {
          "output_type": "display_data",
          "data": {
            "image/png": "[encoded data removed]",
            "text/plain": [
              "<Figure size 576x576 with 9 Axes>"
            ]
          },
          "metadata": {
            "tags": []
          }
        }
      ]
    },
    {
      "cell_type": "markdown",
      "metadata": {
        "id": "xu2SuJu5yNkz",
        "colab_type": "text"
      },
      "source": [
        "## Step 2: Building the Convolutional Neural Network Model ##\n",
        "\n",
        "To build the model, we define a class and add all of the layers and computational steps. Here we have three fully connected layers with 120, 84, and 10 nodes in each respective layer. Notice how the last layer must still have 10 nodes becasue we are differentiating between 10 classes. \n",
        "\n",
        "The \"forward\" function takes the input image $x$ and propagates the data through the network. Notice that after each convolution we apply the \"relu\" activation function and then pool (or downsample) the data. \n",
        "\n",
        "### **The 'relu' activation function** ###\n",
        "\n",
        "'_relu_' is a type of activation function, which stands for \"rectified linear unit\" and is defined as:\n",
        "\n",
        "$\n",
        "f(x)= \n",
        "\\begin{cases}\n",
        "    x,& \\text{for } x > 0\\\\\n",
        "    0,              & \\text{otherwise}\n",
        "\\end{cases}\n",
        "$ "
      ]
    },
    {
      "cell_type": "code",
      "metadata": {
        "id": "3DtcZbnFXZ56",
        "colab_type": "code",
        "colab": {}
      },
      "source": [
        "# Define the model architecture\n",
        "class Net(nn.Module):\n",
        "  def __init__(self):\n",
        "    super(Net, self).__init__()\n",
        "    self.conv1 = nn.Conv2d(1, 6, 4)\n",
        "    self.pool = nn.MaxPool2d(2, 2)\n",
        "    self.conv2 = nn.Conv2d(6, 16, 4)\n",
        "    # self.fc1 = nn.Linear(16 * 4 * 4, 120)\n",
        "    # self.fc2 = nn.Linear(120, 84)\n",
        "    # self.fc3 = nn.Linear(84, 10)\n",
        "    self.fc1 = nn.Linear(16 * 4 * 4, 48)\n",
        "    self.fc2 = nn.Linear(48, 24)\n",
        "    self.fc3 = nn.Linear(24, 10)\n",
        "    \n",
        "  def forward(self, x):\n",
        "    x = self.pool(F.relu(self.conv1(x)))\n",
        "    x = self.pool(F.relu(self.conv2(x)))\n",
        "    x = x.view(-1, 16 * 4 * 4)\n",
        "    x = F.relu(self.fc1(x))\n",
        "    x = F.relu(self.fc2(x))\n",
        "    x = self.fc3(x)\n",
        "    return x\n",
        "\n",
        "net = Net()\n",
        "\n",
        "# Define a loss function and optimizer\n",
        "criterion = nn.CrossEntropyLoss()\n",
        "optimizer = optim.SGD(net.parameters(), lr=0.001, momentum=0.9)"
      ],
      "execution_count": 14,
      "outputs": []
    },
    {
      "cell_type": "markdown",
      "metadata": {
        "id": "nzXyue2W6x1k",
        "colab_type": "text"
      },
      "source": [
        "## Step 3: Train the network ##\n",
        "\n",
        "Here, we will train the neural network and print the accuracy at the end of training. Feel free to play with the number of epochs, or times the model will train on all of the images but be careful of overfitting. \n",
        "\n",
        "There is a lot that goes into training a model. We need to send images through the model, calculate a loss from the true labels, and then update all of the weights in the network.\n",
        "\n",
        "_**Note:** This make take a few minutes to run because it is processing 60,000 images. The number of epochs is directly related to the time that it will take the model to run. For the first time, you should run with `numEpochs = 1`_"
      ]
    },
    {
      "cell_type": "code",
      "metadata": {
        "id": "G2W1-d1-ZC2a",
        "colab_type": "code",
        "colab": {
          "base_uri": "https://localhost:8080/",
          "height": 85
        },
        "outputId": "b887dfe6-7a4b-4edf-9c43-2dddba342b67"
      },
      "source": [
        "# Set the number of times you want to loop over the dataset\n",
        "numEpochs = 1\n",
        "\n",
        "# Train the network\n",
        "for epoch in range(numEpochs):\n",
        "  running_loss = 0.0\n",
        "  for i, data in enumerate(trainloader, 0):\n",
        "    # Get the image and the corresponding label\n",
        "    inputs, labels = data\n",
        "    \n",
        "    # Zero the gradients of the parameters\n",
        "    optimizer.zero_grad()\n",
        "    \n",
        "    # Run data through the network, calculate the loss and update weights\n",
        "    outputs = net(inputs)\n",
        "    # print('Inputs:',inputs.shape)\n",
        "    # print('Outputs:',outputs.shape)\n",
        "    # print('Labels:',labels.shape)\n",
        "    loss = criterion(outputs, labels)\n",
        "    loss.backward()\n",
        "    optimizer.step()\n",
        "    \n",
        "    # Print statistics every 2000 epochs\n",
        "    running_loss += loss.item()\n",
        "    if i % 2000 == 1999:\n",
        "      print('[%d, %5d] loss: %0.3f' % \n",
        "           (epoch + 1, i + 1, running_loss/2000))\n",
        "      \n",
        "print('Finished Training!')"
      ],
      "execution_count": 15,
      "outputs": [
        {
          "output_type": "stream",
          "text": [
            "[1,  2000] loss: 1.214\n",
            "[1,  4000] loss: 1.428\n",
            "[1,  6000] loss: 1.566\n",
            "Finished Training!\n"
          ],
          "name": "stdout"
        }
      ]
    },
    {
      "cell_type": "markdown",
      "metadata": {
        "id": "AeWV__RD8J-a",
        "colab_type": "text"
      },
      "source": [
        "## Step 4: Test the network ##\n",
        "\n",
        "As with any kind of machine learning, it is always important to test the network on data that it did not see during training. Here, we use our \"testing\" dataset to check the actual accuracy of the model. "
      ]
    },
    {
      "cell_type": "code",
      "metadata": {
        "id": "OMvjeYYgoCsv",
        "colab_type": "code",
        "colab": {
          "base_uri": "https://localhost:8080/",
          "height": 34
        },
        "outputId": "63dbbff3-289d-4784-ec88-dc8851b215e6"
      },
      "source": [
        "correct = 0\n",
        "total = 0\n",
        "with torch.no_grad():\n",
        "  for data in testloader:\n",
        "    images, labels = data\n",
        "    outputs = net(images)\n",
        "    _, predicted = torch.max(outputs.data, 1)\n",
        "    total += labels.size(0)\n",
        "    correct += (predicted == labels).sum().item()\n",
        "\n",
        "print('Accuracy of the network on the 10000 test images: %d %%' % (\n",
        "    100 * correct / total))"
      ],
      "execution_count": 16,
      "outputs": [
        {
          "output_type": "stream",
          "text": [
            "Accuracy of the network on the 10000 test images: 93 %\n"
          ],
          "name": "stdout"
        }
      ]
    },
    {
      "cell_type": "markdown",
      "metadata": {
        "id": "H3qMDVx600hS",
        "colab_type": "text"
      },
      "source": [
        "## Step 5: Check your results ##\n",
        "\n",
        "By just using a convolutional neural network with only a few fully connected layers we can get a pretty high accuracy. It is always advisable to check your output of your model to verify that it is working as expected. \n",
        "\n",
        "We can also check the accuracy of each class that was tested? Did any class have a lower accuracy than the rest?"
      ]
    },
    {
      "cell_type": "code",
      "metadata": {
        "id": "hnbf1LkJoTu5",
        "colab_type": "code",
        "colab": {
          "base_uri": "https://localhost:8080/",
          "height": 187
        },
        "outputId": "0c31b597-cf35-40b7-e5aa-e678eda12296"
      },
      "source": [
        "# Create list to hold accuracy of each class\n",
        "class_correct = list(0. for i in range(10))\n",
        "class_total = list(0. for i in range(10))\n",
        "\n",
        "findError = True\n",
        "plotIndex = []\n",
        "\n",
        "# Loop over the testing data set and get the accuracy for each\n",
        "#   hand written digit\n",
        "with torch.no_grad():\n",
        "  for j, data in enumerate(testloader, 0):\n",
        "    images, labels = data\n",
        "    outputs = net(images)\n",
        "    _, predicted = torch.max(outputs, 1)\n",
        "    c = (predicted == labels).squeeze()\n",
        "\n",
        "    # Find iteration with wrong classification to plot later\n",
        "    if ((float(torch.sum(c)) < 8.0) and (findError == True)):\n",
        "      plotIndex.append(j)\n",
        "\n",
        "    # Update accuracy for each class\n",
        "    for i in range(10):\n",
        "      label = labels[i]\n",
        "      class_correct[label] += c[i].item()\n",
        "      class_total[label] += 1\n",
        "\n",
        "# Print accuracy for each class\n",
        "for i in range(10):\n",
        "    print('Accuracy of %5s : %2d %%' % (\n",
        "        classes[i], 100 * class_correct[i] / class_total[i]))"
      ],
      "execution_count": 17,
      "outputs": [
        {
          "output_type": "stream",
          "text": [
            "Accuracy of Digit_0 : 98 %\n",
            "Accuracy of Digit_1 : 99 %\n",
            "Accuracy of Digit_2 : 91 %\n",
            "Accuracy of Digit_3 : 93 %\n",
            "Accuracy of Digit_4 : 93 %\n",
            "Accuracy of Digit_5 : 99 %\n",
            "Accuracy of Digit_6 : 88 %\n",
            "Accuracy of Digit_7 : 92 %\n",
            "Accuracy of Digit_8 : 81 %\n",
            "Accuracy of Digit_9 : 97 %\n"
          ],
          "name": "stdout"
        }
      ]
    },
    {
      "cell_type": "markdown",
      "metadata": {
        "id": "0mjAhP5W9SO7",
        "colab_type": "text"
      },
      "source": [
        "Let's see what images our model got wrong.\n",
        "\n",
        "Below, the code prints a list of testing image sets where the model got 3 or more incorrect. In the next section, you can set the index for the image set that you would like to view."
      ]
    },
    {
      "cell_type": "code",
      "metadata": {
        "id": "UBWgYwTrG4xV",
        "colab_type": "code",
        "colab": {
          "base_uri": "https://localhost:8080/",
          "height": 51
        },
        "outputId": "b455e76a-063a-4562-e1bd-ee78016d6beb"
      },
      "source": [
        "print('List of testing image sets that had 3 or more incorrect classifications:')\n",
        "print(plotIndex)"
      ],
      "execution_count": 18,
      "outputs": [
        {
          "output_type": "stream",
          "text": [
            "List of testing image sets that had 3 or more incorrect classifications:\n",
            "[43, 44, 93, 96, 111, 124, 185, 202, 213, 218, 238, 239, 242, 283, 299, 311, 328, 351, 372, 381, 406, 457, 482, 486, 487, 495, 657, 852, 972, 975]\n"
          ],
          "name": "stdout"
        }
      ]
    },
    {
      "cell_type": "markdown",
      "metadata": {
        "id": "dok2Rxd4ctZF",
        "colab_type": "text"
      },
      "source": [
        "In the next section set \"indexToView\" to change which image set you want to visualize."
      ]
    },
    {
      "cell_type": "code",
      "metadata": {
        "id": "AlnMeJ89HvFY",
        "colab_type": "code",
        "colab": {
          "base_uri": "https://localhost:8080/",
          "height": 34
        },
        "outputId": "d5f07a37-5fc7-4784-fe6f-8f3ffe13302d"
      },
      "source": [
        "# Change this index value to pick which image set you want to visualize\n",
        "indexToView = 0\n",
        "if indexToView >= len(plotIndex):\n",
        "  print('ERROR: Index is out of range! Change the \"indexToView\" value.')\n",
        "else:\n",
        "  print('Visualizing data set #{}'.format(plotIndex[indexToView]))"
      ],
      "execution_count": 19,
      "outputs": [
        {
          "output_type": "stream",
          "text": [
            "Visualizing data set #43\n"
          ],
          "name": "stdout"
        }
      ]
    },
    {
      "cell_type": "code",
      "metadata": {
        "id": "mz47Z8_o9QGe",
        "colab_type": "code",
        "colab": {
          "base_uri": "https://localhost:8080/",
          "height": 1000
        },
        "outputId": "efdf5557-1ebd-4125-a759-b1aceea5c4bd"
      },
      "source": [
        "# Find the image set you have specified and plot the image and the model's output\n",
        "with torch.no_grad():\n",
        "  for j, data in enumerate(testloader, 0):\n",
        "    if j == plotIndex[0]:\n",
        "      images, labels = data\n",
        "      outputs = net(images)\n",
        "      _, predicted = torch.max(outputs, 1)\n",
        "      \n",
        "      # Plot each image with the model's prediction\n",
        "      plt.figure(figsize=(8, 20))\n",
        "      for i in range(len(predicted)):\n",
        "        # Plot the image\n",
        "        plt.subplot(len(predicted), 2,(2*i)+1)\n",
        "        plt.xticks([])\n",
        "        plt.yticks([])\n",
        "        plt.grid(False)\n",
        "        plt.imshow(images[i].squeeze(), cmap=plt.cm.binary)\n",
        "        if int(labels[i]) == int(predicted[i]):\n",
        "          plt.title('Label: {}; Prediction: {}'.format(\n",
        "              int(labels[i]), int(predicted[i])), color='g')\n",
        "        else:\n",
        "          plt.title('Label: {}; Prediction: {}'.format(\n",
        "            int(labels[i]), int(predicted[i])), color='r')\n",
        "        \n",
        "        # Plot histogram of predictions\n",
        "        plt.subplot(len(predicted), 2,(2*i)+2)\n",
        "        plt.xticks(range(10))\n",
        "        plt.yticks(np.arange(0, 1.25, 0.25))\n",
        "        plt.grid(False)\n",
        "        tmpOut = outputs[i,:].numpy()\n",
        "        tmpOut_zero = (tmpOut - np.min(tmpOut))\n",
        "        tmpOut_norm = tmpOut_zero / np.max(tmpOut_zero)\n",
        "        plt.bar(range(10), tmpOut_norm) #, color=\"#777777\")\n",
        "        plt.ylim([0, 1])"
      ],
      "execution_count": 20,
      "outputs": [
        {
          "output_type": "display_data",
          "data": {
            "image/png": "[encoded data removed]",
            "text/plain": [
              "<Figure size 576x1440 with 20 Axes>"
            ]
          },
          "metadata": {
            "tags": [],
            "needs_background": "light"
          }
        }
      ]
    }
  ]
}